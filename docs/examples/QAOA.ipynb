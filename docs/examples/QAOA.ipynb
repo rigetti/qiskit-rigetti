{
 "cells": [
  {
   "cell_type": "markdown",
   "metadata": {
    "tags": [
     "remove_cell"
    ]
   },
   "source": [
    "# Solving combinatorial optimization problems using QAOA"
   ]
  },
  {
   "cell_type": "markdown",
   "metadata": {},
   "source": [
    "> ℹ️ Originally from [the Qiskit textbook](https://qiskit.org/textbook/ch-applications/qaoa.html), this notebook demonstrates how to take existing Qiskit work and run it on a Rigetti backend.\n",
    "\n",
    "In this tutorial, we introduce combinatorial optimization problems, explain approximate optimization algorithms, explain how the Quantum Approximate Optimization Algorithm (QAOA) works and present the implementation of an example that can be run on a simulator or on a real quantum system."
   ]
  },
  {
   "cell_type": "code",
   "execution_count": 1,
   "metadata": {},
   "outputs": [],
   "source": [
    "import networkx as nx\n",
    "import matplotlib.pyplot as plt"
   ]
  },
  {
   "cell_type": "markdown",
   "metadata": {},
   "source": [
    "## Combinatorial Optimization Problem\n",
    "\n",
    "Combinatorial optimization problems involve finding an optimal object out of a finite set of objects. We would focus on problems that involve \n",
    "finding \"optimal\" bitstrings composed of 0's and 1's among a finite set of bitstrings. One such problem corresponding to a graph is the Max-Cut problem. \n",
    "\n",
    "### Max-Cut problem\n",
    "A Max-Cut problem involves partitioning nodes of a graph into two sets, such that the number of edges between the sets is maximum. The example below\n",
    "has a graph with four nodes and some of the ways in which it can be partitioned into two sets, \"red\" and \"blue\" is shown.\n",
    "\n",
    "![](https://qiskit.org/textbook/ch-applications/images/qaoa_maxcut.svg)"
   ]
  },
  {
   "cell_type": "markdown",
   "metadata": {},
   "source": [
    "For 4 nodes, as each node can be assigned to either the \"red\" or \"blue\" sets, there are $2^4=16$ possible assigments.\n",
    "\n",
    "Out of which we have to find one that gives maximum number of edges between the sets \"red\" and \"blue\". The number of such edges between two sets in the figure, as we go from left to right, are 0, 2, 2, and 4. We can see, after enumerating all possible $2^4=16$ assignments, that the rightmost figure is the assignment that gives the maximum number of edges between the two sets. Hence if we encode \"red\" as 0 and \"blue\" as 1, the bitstrings \"0101\" and \"1010\" that represent the assignment of nodes to either set are the solutions.   "
   ]
  },
  {
   "cell_type": "markdown",
   "metadata": {},
   "source": [
    "As you may have realized, as the number of nodes in the graph increases, the number of possible assignments \n",
    "that you have to examine to find the solution increases exponentially."
   ]
  },
  {
   "cell_type": "markdown",
   "metadata": {},
   "source": [
    "## QAOA\n",
    "\n",
    "QAOA (Quantum Approximate Optimization Algorithm) introduced by Farhi et al.[1] is a quantum algorithm that attempts to \n",
    "solve such combinatorial problems.<br> \n",
    "\n",
    "It is a variational algorithm that uses a unitary $U(\\boldsymbol{\\beta}, \\boldsymbol{\\gamma})$ characteized by the parameters \n",
    "$(\\boldsymbol{\\beta}, \\boldsymbol{\\gamma})$ to prepare a quantum state $\\lvert \\psi(\\boldsymbol{\\beta}, \\boldsymbol{\\gamma}) \\rangle$. \n",
    "The goal of the algorithm\n",
    "is to find optimal parameters $(\\boldsymbol{\\beta}_{opt}, \\boldsymbol{\\gamma}_{opt})$ such that the \n",
    "quantum state $\\lvert \\psi(\\boldsymbol{\\beta}_{opt}, \\boldsymbol{\\gamma}_{opt}) \\rangle$ encodes the solution to the problem. \n",
    "\n",
    "The unitary $U(\\boldsymbol{\\beta}, \\boldsymbol{\\gamma})$ has a specific form and is composed of two unitaries \n",
    "$U(\\boldsymbol{\\beta}) = e^{-i \\boldsymbol{\\beta} H_B}$ and $U(\\boldsymbol{\\gamma}) = e^{-i \\boldsymbol{\\gamma} H_P}$\n",
    "where $H_B$ is the mixing Hamiltonian and $H_P$ is the problem Hamiltonian. Such a choice of unitary drives its inspiration \n",
    "from a related scheme called quantum annealing.\n",
    "\n",
    "The state is prepared by applying these unitaries as alternating blocks of the two unitaries applied $p$ times such that \n",
    "\n",
    "$$\\lvert \\psi(\\boldsymbol{\\beta}, \\boldsymbol{\\gamma}) \\rangle = \\underbrace{U(\\boldsymbol{\\beta}) U(\\boldsymbol{\\gamma}) \n",
    "                                            \\cdots U(\\boldsymbol{\\beta}) U(\\boldsymbol{\\gamma})}_{p \\; \\text{times}} \n",
    "\\lvert \\psi_0 \\rangle$$\n",
    "\n",
    "where $\\lvert \\psi_0 \\rangle$ is a suitable initial state. \n",
    "\n",
    "We will demonstrate these steps using the Max-Cut problem discussed above. For that we would first define\n",
    "the underlying graph of the problem shown above."
   ]
  },
  {
   "cell_type": "code",
   "execution_count": 2,
   "metadata": {},
   "outputs": [
    {
     "data": {
      "image/png": "[encoded data removed]",
      "text/plain": [
       "<Figure size 432x288 with 1 Axes>"
      ]
     },
     "metadata": {},
     "output_type": "display_data"
    }
   ],
   "source": [
    "import networkx as nx\n",
    "\n",
    "G = nx.Graph()\n",
    "G.add_nodes_from([0, 1, 2, 3])\n",
    "G.add_edges_from([(0, 1), (1, 2), (2, 3), (3, 0)])\n",
    "nx.draw(G, with_labels=True, alpha=0.8, node_size=500)"
   ]
  },
  {
   "cell_type": "markdown",
   "metadata": {},
   "source": [
    "The problem Hamiltonian specific to the Max-Cut problem up to a constant here is:\n",
    "\n",
    "$$\n",
    "H_P = \\frac{1}{2}\\big(Z_0 \\otimes Z_1 \\otimes I_2 \\otimes I_3\\big) + \n",
    "        \\frac{1}{2}\\big(I_0 \\otimes Z_1 \\otimes Z_2 \\otimes I_3\\big) +\n",
    "        \\frac{1}{2}\\big(Z_0 \\otimes I_1 \\otimes I_2 \\otimes Z_3\\big) +\n",
    "        \\frac{1}{2}\\big(I_0 \\otimes I_1 \\otimes Z_2 \\otimes Z_3\\big)\n",
    "$$\n",
    "\n",
    "To contruct such a Hamiltonian for a problem, one needs to follow a few steps that we'll cover in later sections of this page.\n",
    "\n",
    "And the mixer Hamiltonian $H_B$ is usually of the form:\n",
    "\n",
    "$$\n",
    "H_B = \\big(X_0 \\otimes I_1 \\otimes I_2 \\otimes I_3 \\big) + \n",
    "      \\big(I_0 \\otimes X_1 \\otimes I_2 \\otimes I_3 \\big) +\n",
    "      \\big(I_0 \\otimes I_1 \\otimes X_2 \\otimes I_3 \\big) +\n",
    "      \\big(I_0 \\otimes I_1 \\otimes I_2 \\otimes X_3 \\big)\n",
    "$$\n",
    "\n",
    "As individual terms in the summation of $H_P$ and $H_B$ both commute, we can write the unitaries as:\n",
    "\n",
    "$$ U(H_B) = e^{-i \\beta H_B} = e^{-i \\beta X_0}e^{-i \\beta X_1}e^{-i \\beta X_2}e^{-i \\beta X_3}.$$\n",
    "\n",
    "Notice that each term in the product above corresponds to an X-rotation on each qubit. And we can write $U(H_P)$ as:\n",
    "\n",
    "$$ U(H_P) = e^{-i \\gamma H_P} = e^{-i \\gamma Z_0 Z_1}e^{-i \\gamma Z_1 Z_2}e^{-i \\gamma Z_2 Z_3}e^{-i \\gamma Z_0 Z_3}$$\n",
    "\n",
    "Let's now examine what the circuits of the two unitaries look like. "
   ]
  },
  {
   "cell_type": "markdown",
   "metadata": {},
   "source": [
    "### The Mixing Unitary"
   ]
  },
  {
   "cell_type": "code",
   "execution_count": 3,
   "metadata": {},
   "outputs": [
    {
     "data": {
      "text/html": [
       "<pre style=\"word-wrap: normal;white-space: pre;background: #fff0;line-height: 1.1;font-family: &quot;Courier New&quot;,Courier,monospace\">     ┌───────────────┐\n",
       "q_0: ┤ RX(2*$\\beta$) ├\n",
       "     ├───────────────┤\n",
       "q_1: ┤ RX(2*$\\beta$) ├\n",
       "     ├───────────────┤\n",
       "q_2: ┤ RX(2*$\\beta$) ├\n",
       "     ├───────────────┤\n",
       "q_3: ┤ RX(2*$\\beta$) ├\n",
       "     └───────────────┘</pre>"
      ],
      "text/plain": [
       "     ┌───────────────┐\n",
       "q_0: ┤ RX(2*$\\beta$) ├\n",
       "     ├───────────────┤\n",
       "q_1: ┤ RX(2*$\\beta$) ├\n",
       "     ├───────────────┤\n",
       "q_2: ┤ RX(2*$\\beta$) ├\n",
       "     ├───────────────┤\n",
       "q_3: ┤ RX(2*$\\beta$) ├\n",
       "     └───────────────┘"
      ]
     },
     "execution_count": 3,
     "metadata": {},
     "output_type": "execute_result"
    }
   ],
   "source": [
    "from qiskit import QuantumCircuit, ClassicalRegister, QuantumRegister\n",
    "from qiskit import Aer, execute\n",
    "from qiskit.circuit import Parameter\n",
    "\n",
    "# Adjacency is essentially a matrix which tells you which nodes are\n",
    "# connected. This matrix is given as a sparse matrix, so we need to\n",
    "# convert it to a dense matrix\n",
    "adjacency = nx.adjacency_matrix(G).todense()\n",
    "\n",
    "nqubits = 4\n",
    "\n",
    "beta = Parameter(\"$\\\\beta$\")\n",
    "qc_mix = QuantumCircuit(nqubits)\n",
    "for i in range(0, nqubits):\n",
    "    qc_mix.rx(2 * beta, i)\n",
    "    \n",
    "qc_mix.draw()"
   ]
  },
  {
   "cell_type": "markdown",
   "metadata": {},
   "source": [
    "### The Problem Unitary"
   ]
  },
  {
   "cell_type": "code",
   "execution_count": 4,
   "metadata": {},
   "outputs": [
    {
     "data": {
      "text/html": [
       "<pre style=\"word-wrap: normal;white-space: pre;background: #fff0;line-height: 1.1;font-family: &quot;Courier New&quot;,Courier,monospace\">                                  ░                              ░      »\n",
       "q_0: ──■──────────────────────■───░───■──────────────────────■───░──────»\n",
       "     ┌─┴─┐┌────────────────┐┌─┴─┐ ░   │                      │   ░      »\n",
       "q_1: ┤ X ├┤ RZ(2*$\\gamma$) ├┤ X ├─░───┼──────────────────────┼───░───■──»\n",
       "     └───┘└────────────────┘└───┘ ░   │                      │   ░ ┌─┴─┐»\n",
       "q_2: ─────────────────────────────░───┼──────────────────────┼───░─┤ X ├»\n",
       "                                  ░ ┌─┴─┐┌────────────────┐┌─┴─┐ ░ └───┘»\n",
       "q_3: ─────────────────────────────░─┤ X ├┤ RZ(2*$\\gamma$) ├┤ X ├─░──────»\n",
       "                                  ░ └───┘└────────────────┘└───┘ ░      »\n",
       "«                             ░                              ░ \n",
       "«q_0: ────────────────────────░──────────────────────────────░─\n",
       "«                             ░                              ░ \n",
       "«q_1: ────────────────────■───░──────────────────────────────░─\n",
       "«     ┌────────────────┐┌─┴─┐ ░                              ░ \n",
       "«q_2: ┤ RZ(2*$\\gamma$) ├┤ X ├─░───■──────────────────────■───░─\n",
       "«     └────────────────┘└───┘ ░ ┌─┴─┐┌────────────────┐┌─┴─┐ ░ \n",
       "«q_3: ────────────────────────░─┤ X ├┤ RZ(2*$\\gamma$) ├┤ X ├─░─\n",
       "«                             ░ └───┘└────────────────┘└───┘ ░ </pre>"
      ],
      "text/plain": [
       "                                  ░                              ░      »\n",
       "q_0: ──■──────────────────────■───░───■──────────────────────■───░──────»\n",
       "     ┌─┴─┐┌────────────────┐┌─┴─┐ ░   │                      │   ░      »\n",
       "q_1: ┤ X ├┤ RZ(2*$\\gamma$) ├┤ X ├─░───┼──────────────────────┼───░───■──»\n",
       "     └───┘└────────────────┘└───┘ ░   │                      │   ░ ┌─┴─┐»\n",
       "q_2: ─────────────────────────────░───┼──────────────────────┼───░─┤ X ├»\n",
       "                                  ░ ┌─┴─┐┌────────────────┐┌─┴─┐ ░ └───┘»\n",
       "q_3: ─────────────────────────────░─┤ X ├┤ RZ(2*$\\gamma$) ├┤ X ├─░──────»\n",
       "                                  ░ └───┘└────────────────┘└───┘ ░      »\n",
       "«                             ░                              ░ \n",
       "«q_0: ────────────────────────░──────────────────────────────░─\n",
       "«                             ░                              ░ \n",
       "«q_1: ────────────────────■───░──────────────────────────────░─\n",
       "«     ┌────────────────┐┌─┴─┐ ░                              ░ \n",
       "«q_2: ┤ RZ(2*$\\gamma$) ├┤ X ├─░───■──────────────────────■───░─\n",
       "«     └────────────────┘└───┘ ░ ┌─┴─┐┌────────────────┐┌─┴─┐ ░ \n",
       "«q_3: ────────────────────────░─┤ X ├┤ RZ(2*$\\gamma$) ├┤ X ├─░─\n",
       "«                             ░ └───┘└────────────────┘└───┘ ░ "
      ]
     },
     "execution_count": 4,
     "metadata": {},
     "output_type": "execute_result"
    }
   ],
   "source": [
    "gamma = Parameter(\"$\\\\gamma$\")\n",
    "qc_p = QuantumCircuit(nqubits)\n",
    "for pair in list(G.edges()):  # pairs of nodes\n",
    "    qc_p.rzz(2 * gamma, pair[0], pair[1])\n",
    "    qc_p.barrier()\n",
    "    \n",
    "qc_p.decompose().draw()"
   ]
  },
  {
   "cell_type": "markdown",
   "metadata": {},
   "source": [
    "### The Initial State\n",
    "\n",
    "The initial state used during QAOA is usually an equal superposition of all the basis states i.e.\n",
    "\n",
    "$$\\lvert \\psi_0 \\rangle = \\bigg(\\frac{1}{\\sqrt{2}}\\big(\\lvert 0 \\rangle + \\lvert 1 \\rangle\\big)\\bigg)^{\\otimes n}$$\n",
    "\n",
    "Such a state, when number of qubits is 4 ($n=4$), can be prepared by applying Hadamard gates starting from an all zero state as shown in \n",
    "the circuit below. "
   ]
  },
  {
   "cell_type": "code",
   "execution_count": 5,
   "metadata": {},
   "outputs": [
    {
     "data": {
      "text/html": [
       "<pre style=\"word-wrap: normal;white-space: pre;background: #fff0;line-height: 1.1;font-family: &quot;Courier New&quot;,Courier,monospace\">     ┌───┐\n",
       "q_0: ┤ H ├\n",
       "     ├───┤\n",
       "q_1: ┤ H ├\n",
       "     ├───┤\n",
       "q_2: ┤ H ├\n",
       "     ├───┤\n",
       "q_3: ┤ H ├\n",
       "     └───┘</pre>"
      ],
      "text/plain": [
       "     ┌───┐\n",
       "q_0: ┤ H ├\n",
       "     ├───┤\n",
       "q_1: ┤ H ├\n",
       "     ├───┤\n",
       "q_2: ┤ H ├\n",
       "     ├───┤\n",
       "q_3: ┤ H ├\n",
       "     └───┘"
      ]
     },
     "execution_count": 5,
     "metadata": {},
     "output_type": "execute_result"
    }
   ],
   "source": [
    "qc_0 = QuantumCircuit(nqubits)\n",
    "for i in range(0, nqubits):\n",
    "    qc_0.h(i)\n",
    "    \n",
    "qc_0.draw()"
   ]
  },
  {
   "cell_type": "markdown",
   "metadata": {},
   "source": [
    "### The QAOA circuit\n",
    "\n",
    "So far we have seen that the preparation of a quantum state during QAOA is composed of three elements\n",
    "- Preparing an initial state\n",
    "- Applying the unitary $U(H_P) = e^{-i \\gamma H_P}$ corresponding to the problem Hamiltonian\n",
    "- Then, applying the mixing unitary $U(H_B) = e^{-i \\beta H_B}$\n",
    "\n",
    "Let's see what it looks like for the example problem:"
   ]
  },
  {
   "cell_type": "code",
   "execution_count": 6,
   "metadata": {},
   "outputs": [
    {
     "data": {
      "text/html": [
       "<pre style=\"word-wrap: normal;white-space: pre;background: #fff0;line-height: 1.1;font-family: &quot;Courier New&quot;,Courier,monospace\">     ┌─────────┐┌────────────────┐                             ░      »\n",
       "q_0: ┤ U2(0,π) ├┤ R(2*$\\beta$,0) ├──■──────────────────────■───░───■──»\n",
       "     ├─────────┤├────────────────┤┌─┴─┐┌────────────────┐┌─┴─┐ ░   │  »\n",
       "q_1: ┤ U2(0,π) ├┤ R(2*$\\beta$,0) ├┤ X ├┤ RZ(2*$\\gamma$) ├┤ X ├─░───┼──»\n",
       "     ├─────────┤├────────────────┤└───┘└────────────────┘└───┘ ░   │  »\n",
       "q_2: ┤ U2(0,π) ├┤ R(2*$\\beta$,0) ├─────────────────────────────░───┼──»\n",
       "     ├─────────┤├────────────────┤                             ░ ┌─┴─┐»\n",
       "q_3: ┤ U2(0,π) ├┤ R(2*$\\beta$,0) ├─────────────────────────────░─┤ X ├»\n",
       "     └─────────┘└────────────────┘                             ░ └───┘»\n",
       "«                             ░                              ░      »\n",
       "«q_0: ────────────────────■───░──────────────────────────────░──────»\n",
       "«                         │   ░                              ░      »\n",
       "«q_1: ────────────────────┼───░───■──────────────────────■───░──────»\n",
       "«                         │   ░ ┌─┴─┐┌────────────────┐┌─┴─┐ ░      »\n",
       "«q_2: ────────────────────┼───░─┤ X ├┤ RZ(2*$\\gamma$) ├┤ X ├─░───■──»\n",
       "«     ┌────────────────┐┌─┴─┐ ░ └───┘└────────────────┘└───┘ ░ ┌─┴─┐»\n",
       "«q_3: ┤ RZ(2*$\\gamma$) ├┤ X ├─░──────────────────────────────░─┤ X ├»\n",
       "«     └────────────────┘└───┘ ░                              ░ └───┘»\n",
       "«                             ░ \n",
       "«q_0: ────────────────────────░─\n",
       "«                             ░ \n",
       "«q_1: ────────────────────────░─\n",
       "«                             ░ \n",
       "«q_2: ────────────────────■───░─\n",
       "«     ┌────────────────┐┌─┴─┐ ░ \n",
       "«q_3: ┤ RZ(2*$\\gamma$) ├┤ X ├─░─\n",
       "«     └────────────────┘└───┘ ░ </pre>"
      ],
      "text/plain": [
       "     ┌─────────┐┌────────────────┐                             ░      »\n",
       "q_0: ┤ U2(0,π) ├┤ R(2*$\\beta$,0) ├──■──────────────────────■───░───■──»\n",
       "     ├─────────┤├────────────────┤┌─┴─┐┌────────────────┐┌─┴─┐ ░   │  »\n",
       "q_1: ┤ U2(0,π) ├┤ R(2*$\\beta$,0) ├┤ X ├┤ RZ(2*$\\gamma$) ├┤ X ├─░───┼──»\n",
       "     ├─────────┤├────────────────┤└───┘└────────────────┘└───┘ ░   │  »\n",
       "q_2: ┤ U2(0,π) ├┤ R(2*$\\beta$,0) ├─────────────────────────────░───┼──»\n",
       "     ├─────────┤├────────────────┤                             ░ ┌─┴─┐»\n",
       "q_3: ┤ U2(0,π) ├┤ R(2*$\\beta$,0) ├─────────────────────────────░─┤ X ├»\n",
       "     └─────────┘└────────────────┘                             ░ └───┘»\n",
       "«                             ░                              ░      »\n",
       "«q_0: ────────────────────■───░──────────────────────────────░──────»\n",
       "«                         │   ░                              ░      »\n",
       "«q_1: ────────────────────┼───░───■──────────────────────■───░──────»\n",
       "«                         │   ░ ┌─┴─┐┌────────────────┐┌─┴─┐ ░      »\n",
       "«q_2: ────────────────────┼───░─┤ X ├┤ RZ(2*$\\gamma$) ├┤ X ├─░───■──»\n",
       "«     ┌────────────────┐┌─┴─┐ ░ └───┘└────────────────┘└───┘ ░ ┌─┴─┐»\n",
       "«q_3: ┤ RZ(2*$\\gamma$) ├┤ X ├─░──────────────────────────────░─┤ X ├»\n",
       "«     └────────────────┘└───┘ ░                              ░ └───┘»\n",
       "«                             ░ \n",
       "«q_0: ────────────────────────░─\n",
       "«                             ░ \n",
       "«q_1: ────────────────────────░─\n",
       "«                             ░ \n",
       "«q_2: ────────────────────■───░─\n",
       "«     ┌────────────────┐┌─┴─┐ ░ \n",
       "«q_3: ┤ RZ(2*$\\gamma$) ├┤ X ├─░─\n",
       "«     └────────────────┘└───┘ ░ "
      ]
     },
     "execution_count": 6,
     "metadata": {},
     "output_type": "execute_result"
    }
   ],
   "source": [
    "qc_qaoa = QuantumCircuit(nqubits)\n",
    "\n",
    "qc_qaoa.append(qc_0, [i for i in range(0, nqubits)])\n",
    "qc_qaoa.append(qc_mix, [i for i in range(0, nqubits)])\n",
    "qc_qaoa.append(qc_p, [i for i in range(0, nqubits)])\n",
    "\n",
    "qc_qaoa.decompose().decompose().draw()"
   ]
  },
  {
   "cell_type": "markdown",
   "metadata": {},
   "source": [
    "The next step is to find the optimal parameters $(\\boldsymbol{\\beta_{opt}}, \\boldsymbol{\\gamma_{opt}})$ such that the expectation value\n",
    "\n",
    "$$ \\langle \\psi(\\boldsymbol{\\beta}_{opt}, \\boldsymbol{\\gamma}_{opt}) \\rvert H_P \\lvert \n",
    "\\psi(\\boldsymbol{\\beta}_{opt}, \\boldsymbol{\\gamma}_{opt}) \\rangle $$\n",
    "\n",
    "is minimized. Such an expectation can be obtained by doing measurement in the Z-basis. We use a classical optimization algorithm to find the optimal parameters. Following steps are involved as shown in the schematic\n",
    "\n",
    "<img src=\"https://qiskit.org/textbook/ch-applications/images/QAOA_schematic.png\" width=\"400\" height=\"200\">\n",
    "\n",
    "1. Initialize $\\boldsymbol{\\beta}$ and $\\boldsymbol{\\gamma}$ to suitable real values.\n",
    "2. Repeat until some suitable convergence criteria is met:\n",
    "    1. Prepare the state $\\lvert \\psi(\\boldsymbol{\\beta}, \\boldsymbol{\\gamma}) \\rangle$ using qaoa circuit\n",
    "    2. Measure the state in standard basis\n",
    "    3. Compute $\\langle \\psi(\\boldsymbol{\\beta}, \\boldsymbol{\\gamma}) \\rvert H_P \\lvert \\psi(\\boldsymbol{\\beta}, \\boldsymbol{\\gamma}) \\rangle$ \n",
    "    4. Find new set of parameters $(\\boldsymbol{\\beta}_{new}, \\boldsymbol{\\gamma}_{new})$ using a classical optimization algorithm\n",
    "    5. Set current parameters $(\\boldsymbol{\\beta}, \\boldsymbol{\\gamma})$ equal to the new parameters \n",
    "      $(\\boldsymbol{\\beta}_{new}, \\boldsymbol{\\gamma}_{new})$\n",
    "\n",
    "The code below implements the steps mentioned above."
   ]
  },
  {
   "cell_type": "code",
   "execution_count": 7,
   "metadata": {},
   "outputs": [],
   "source": [
    "def maxcut_obj(x, G):\n",
    "    \"\"\"\n",
    "    Given a bitstring as a solution, this function returns\n",
    "    the number of edges shared between the two partitions\n",
    "    of the graph.\n",
    "    \n",
    "    Args:\n",
    "        x: str\n",
    "           solution bitstring\n",
    "           \n",
    "        G: networkx graph\n",
    "        \n",
    "    Returns:\n",
    "        obj: float\n",
    "             Objective\n",
    "    \"\"\"\n",
    "    obj = 0\n",
    "    for i, j in G.edges():\n",
    "        if x[i] != x[j]:\n",
    "            obj -= 1\n",
    "            \n",
    "    return obj\n",
    "\n",
    "\n",
    "def compute_expectation(counts, G):\n",
    "    \n",
    "    \"\"\"\n",
    "    Computes expectation value based on measurement results\n",
    "    \n",
    "    Args:\n",
    "        counts: dict\n",
    "                key as bitstring, val as count\n",
    "           \n",
    "        G: networkx graph\n",
    "        \n",
    "    Returns:\n",
    "        avg: float\n",
    "             expectation value\n",
    "    \"\"\"\n",
    "    \n",
    "    avg = 0\n",
    "    sum_count = 0\n",
    "    for bitstring, count in counts.items():\n",
    "        \n",
    "        obj = maxcut_obj(bitstring, G)\n",
    "        avg += obj * count\n",
    "        sum_count += count\n",
    "        \n",
    "    return avg/sum_count\n",
    "\n",
    "\n",
    "# We will also bring the different circuit components that\n",
    "# build the qaoa circuit under a single function\n",
    "def create_qaoa_circ(G, theta):\n",
    "    \n",
    "    \"\"\"\n",
    "    Creates a parametrized qaoa circuit\n",
    "    \n",
    "    Args:  \n",
    "        G: networkx graph\n",
    "        theta: list\n",
    "               unitary parameters\n",
    "                     \n",
    "    Returns:\n",
    "        qc: qiskit circuit\n",
    "    \"\"\"\n",
    "    \n",
    "    nqubits = len(G.nodes())\n",
    "    p = len(theta)//2  # number of alternating unitaries\n",
    "    qc = QuantumCircuit(nqubits)\n",
    "    \n",
    "    beta = theta[:p]\n",
    "    gamma = theta[p:]\n",
    "    \n",
    "    # initial_state\n",
    "    for i in range(0, nqubits):\n",
    "        qc.h(i)\n",
    "    \n",
    "    for irep in range(0, p):\n",
    "        \n",
    "        # problem unitary\n",
    "        for pair in list(G.edges()):\n",
    "            qc.rzz(2 * gamma[irep], pair[0], pair[1])\n",
    "\n",
    "        # mixer unitary\n",
    "        for i in range(0, nqubits):\n",
    "            qc.rx(2 * beta[irep], i)\n",
    "            \n",
    "    qc.measure_all()\n",
    "        \n",
    "    return qc\n",
    "\n",
    "\n",
    "from qiskit_rigetti import RigettiQCSProvider\n",
    "provider = RigettiQCSProvider()\n",
    "\n",
    "# Finally we write a function that executes the circuit on the chosen backend\n",
    "def get_expectation(G, p, shots=512):\n",
    "    \n",
    "    \"\"\"\n",
    "    Runs parametrized circuit\n",
    "    \n",
    "    Args:\n",
    "        G: networkx graph\n",
    "        p: int,\n",
    "           Number of repetitions of unitaries\n",
    "    \"\"\"\n",
    "    backend = provider.get_simulator(num_qubits=len(G.nodes), noisy=False)  # or provider.get_backend(name='Aspen-9') when running via QCS\n",
    "    \n",
    "    def execute_circ(theta):\n",
    "        \n",
    "        qc = create_qaoa_circ(G, theta)\n",
    "        counts = backend.run(qc, shots=512).result().get_counts()\n",
    "        \n",
    "        return compute_expectation(counts, G)\n",
    "    \n",
    "    return execute_circ"
   ]
  },
  {
   "cell_type": "code",
   "execution_count": 8,
   "metadata": {},
   "outputs": [
    {
     "data": {
      "text/plain": [
       "     fun: -2.91796875\n",
       "   maxcv: 0.0\n",
       " message: 'Optimization terminated successfully.'\n",
       "    nfev: 32\n",
       "  status: 1\n",
       " success: True\n",
       "       x: array([2.06891637, 1.16583915])"
      ]
     },
     "execution_count": 8,
     "metadata": {},
     "output_type": "execute_result"
    }
   ],
   "source": [
    "from scipy.optimize import minimize\n",
    "\n",
    "\n",
    "expectation = get_expectation(G, p=1)\n",
    "\n",
    "res = minimize(expectation, \n",
    "                      [1.0, 1.0], \n",
    "                      method='COBYLA')\n",
    "res"
   ]
  },
  {
   "cell_type": "markdown",
   "metadata": {},
   "source": [
    "Note that different choices of classical optimizers are present in qiskit. We choose [COBYLA](https://github.com/Qiskit/qiskit-terra/blob/main/qiskit/algorithms/optimizers/cobyla.py) as our classical optimization algorithm here."
   ]
  },
  {
   "cell_type": "markdown",
   "metadata": {},
   "source": [
    "### Analyzing the result"
   ]
  },
  {
   "cell_type": "code",
   "execution_count": 9,
   "metadata": {
    "tags": []
   },
   "outputs": [
    {
     "data": {
      "image/png": "[encoded data removed]",
      "text/plain": [
       "<Figure size 504x360 with 1 Axes>"
      ]
     },
     "execution_count": 9,
     "metadata": {},
     "output_type": "execute_result"
    }
   ],
   "source": [
    "from qiskit.visualization import plot_histogram\n",
    "\n",
    "backend = provider.get_simulator(num_qubits=len(G.nodes), noisy=False)\n",
    "\n",
    "qc_res = create_qaoa_circ(G, res.x)\n",
    "\n",
    "counts = backend.run(qc_res, shots=512).result().get_counts()\n",
    "\n",
    "plot_histogram(counts)"
   ]
  },
  {
   "cell_type": "markdown",
   "metadata": {},
   "source": [
    "As we notice that the bitstrings \"0101\" and \"1010\" have the highest probability and are indeed the assignments of the graph (we started with) that gives 4 edges between the two partitions. "
   ]
  },
  {
   "cell_type": "markdown",
   "metadata": {},
   "source": [
    "## References<a id=\"references\"></a>\n",
    "1. Farhi, Edward, Jeffrey Goldstone, and Sam Gutmann. \"A quantum approximate optimization algorithm.\" arXiv preprint [arXiv:1411.4028 (2014)](https://arxiv.org/abs/1411.4028).\n",
    "2. Goemans, Michel X., and David P. Williamson. [Journal of the ACM (JACM) 42.6 (1995): 1115-1145](http://www-math.mit.edu/~goemans/PAPERS/maxcut-jacm.pdf).\n",
    "3. Garey, Michael R.; David S. Johnson (1979). Computers and Intractability: A Guide to the Theory of NP-Completeness. W. H. Freeman. ISBN 0-7167-1045-5\n",
    "4. Kandala, Abhinav, et al. \"Hardware-efficient variational quantum eigensolver for small molecules and quantum magnets.\" [Nature 549.7671 (2017): 242](https://www.nature.com/articles/nature23879).\n",
    "5. Farhi, Edward, et al. \"Quantum algorithms for fixed qubit architectures.\" arXiv preprint [arXiv:1703.06199 (2017)](https://arxiv.org/abs/1703.06199).\n",
    "6. Spall, J. C. (1992), [IEEE Transactions on Automatic Control, vol. 37(3), pp. 332–341](https://ieeexplore.ieee.org/document/119632).\n",
    "7. Michael Streif and Martin Leib \"Training the quantum approximate optimization algorithm without access to a quantum processing unit\" (2020) [Quantum Sci. Technol. 5 034008](https://doi.org/10.1088/2058-9565/ab8c2b)"
   ]
  }
 ],
 "metadata": {
  "kernelspec": {
   "display_name": "Python 3 (ipykernel)",
   "language": "python",
   "name": "python3"
  },
  "language_info": {
   "codemirror_mode": {
    "name": "ipython",
    "version": 3
   },
   "file_extension": ".py",
   "mimetype": "text/x-python",
   "name": "python",
   "nbconvert_exporter": "python",
   "pygments_lexer": "ipython3",
   "version": "3.7.9"
  }
 },
 "nbformat": 4,
 "nbformat_minor": 4
}
